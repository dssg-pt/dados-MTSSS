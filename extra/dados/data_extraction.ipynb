{
 "cells": [
  {
   "cell_type": "code",
   "execution_count": 2,
   "metadata": {},
   "outputs": [],
   "source": [
    "from bs4 import BeautifulSoup, SoupStrainer\n",
    "import requests\n",
    "import re\n",
    "import webbrowser"
   ]
  },
  {
   "cell_type": "code",
   "execution_count": 3,
   "metadata": {},
   "outputs": [
    {
     "data": {
      "text/plain": [
       "'http://www.gep.mtsss.gov.pthttp://www.gep.mtsss.gov.pt/documents/10182/127072/Monitorizacao_COVID-19_MTSSS_16_junho_2020.xlsx/1830e84a-4fc0-4ccc-b7de-0cbad7feab79'"
      ]
     },
     "execution_count": 3,
     "metadata": {},
     "output_type": "execute_result"
    }
   ],
   "source": [
    "r = requests.get('http://www.gep.mtsss.gov.pt/indicadores-covid-19-mtsss')\n",
    "\n",
    "\n",
    "soup = BeautifulSoup(r.text, 'html.parser') \n",
    "link = soup.findAll('a', attrs={'href': re.compile('/documents')})[0]\n",
    "\n",
    "#changing beautifulsoup object to string\n",
    "str_link = str(link)\n",
    "#extracting the link from object\n",
    "clean_link = re.findall('\"([^\"]*)\"', str_link)[0]\n",
    "website = 'http://www.gep.mtsss.gov.pt'\n",
    "url = website+clean_link\n",
    "url"
   ]
  },
  {
   "cell_type": "code",
   "execution_count": null,
   "metadata": {},
   "outputs": [],
   "source": [
    "webbrowser.open(url)"
   ]
  }
 ],
 "metadata": {
  "kernelspec": {
   "display_name": "Python 3",
   "language": "python",
   "name": "python3"
  },
  "language_info": {
   "codemirror_mode": {
    "name": "ipython",
    "version": 3
   },
   "file_extension": ".py",
   "mimetype": "text/x-python",
   "name": "python",
   "nbconvert_exporter": "python",
   "pygments_lexer": "ipython3",
   "version": "3.7.6"
  },
  "toc": {
   "base_numbering": 1,
   "nav_menu": {},
   "number_sections": true,
   "sideBar": true,
   "skip_h1_title": false,
   "title_cell": "Table of Contents",
   "title_sidebar": "Contents",
   "toc_cell": false,
   "toc_position": {},
   "toc_section_display": true,
   "toc_window_display": false
  }
 },
 "nbformat": 4,
 "nbformat_minor": 4
}
