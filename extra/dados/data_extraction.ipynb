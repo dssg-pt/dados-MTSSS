{
 "cells": [
  {
   "cell_type": "code",
   "execution_count": 1,
   "metadata": {},
   "outputs": [],
   "source": [
    "from bs4 import BeautifulSoup, SoupStrainer\n",
    "import requests\n",
    "import re\n",
    "import webbrowser\n",
    "import pandas as pd"
   ]
  },
  {
   "cell_type": "code",
   "execution_count": 2,
   "metadata": {},
   "outputs": [],
   "source": [
    "def latest_file():\n",
    "    r = requests.get('http://www.gep.mtsss.gov.pt/indicadores-covid-19-mtsss')\n",
    "    soup = BeautifulSoup(r.text, 'html.parser') \n",
    "    link = soup.findAll('a', attrs={'href': re.compile('/documents')})[0]\n",
    "    #changing beautifulsoup object to string\n",
    "    str_link = str(link)\n",
    "    #extracting the link from object\n",
    "    clean_link = re.findall('\"([^\"]*)\"', str_link)[0]\n",
    "    #transforming csv into dataframe\n",
    "    data = pd.ExcelFile(clean_link)\n",
    "    all_sheets = pd.read_excel(data, sheet_name=None)\n",
    "    #save down all worksheets separately\n",
    "    for key in all_sheets: \n",
    "        all_sheets[key].to_csv('original_files/%s.csv' %key,index=False)\n",
    "    return all_my_sheets"
   ]
  },
  {
   "cell_type": "code",
   "execution_count": null,
   "metadata": {},
   "outputs": [],
   "source": [
    "latest_file()"
   ]
  },
  {
   "cell_type": "raw",
   "metadata": {},
   "source": []
  }
 ],
 "metadata": {
  "kernelspec": {
   "display_name": "Python 3",
   "language": "python",
   "name": "python3"
  },
  "language_info": {
   "codemirror_mode": {
    "name": "ipython",
    "version": 3
   },
   "file_extension": ".py",
   "mimetype": "text/x-python",
   "name": "python",
   "nbconvert_exporter": "python",
   "pygments_lexer": "ipython3",
   "version": "3.7.6"
  },
  "toc": {
   "base_numbering": 1,
   "nav_menu": {},
   "number_sections": true,
   "sideBar": true,
   "skip_h1_title": false,
   "title_cell": "Table of Contents",
   "title_sidebar": "Contents",
   "toc_cell": false,
   "toc_position": {},
   "toc_section_display": true,
   "toc_window_display": false
  }
 },
 "nbformat": 4,
 "nbformat_minor": 4
}
